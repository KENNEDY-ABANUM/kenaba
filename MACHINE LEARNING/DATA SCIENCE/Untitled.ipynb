{
 "cells": [
  {
   "cell_type": "code",
   "execution_count": 1,
   "id": "0d6fd97b",
   "metadata": {},
   "outputs": [
    {
     "data": {
      "text/plain": [
       "'my nane is kennedy abanum'"
      ]
     },
     "execution_count": 1,
     "metadata": {},
     "output_type": "execute_result"
    }
   ],
   "source": [
    "data= 'my nane is kennedy abanum'\n",
    "data"
   ]
  },
  {
   "cell_type": "code",
   "execution_count": 2,
   "id": "f966044a",
   "metadata": {},
   "outputs": [
    {
     "name": "stdout",
     "output_type": "stream",
     "text": [
      "4.0\n"
     ]
    }
   ],
   "source": [
    "print(100/25)"
   ]
  },
  {
   "cell_type": "code",
   "execution_count": 3,
   "id": "1fa43f3a",
   "metadata": {},
   "outputs": [
    {
     "data": {
      "text/plain": [
       "'my nane is kennedy abanum'"
      ]
     },
     "execution_count": 3,
     "metadata": {},
     "output_type": "execute_result"
    }
   ],
   "source": [
    "data"
   ]
  },
  {
   "cell_type": "code",
   "execution_count": 5,
   "id": "bdba6116",
   "metadata": {},
   "outputs": [
    {
     "data": {
      "text/plain": [
       "'welcome to the world of data science'"
      ]
     },
     "execution_count": 5,
     "metadata": {},
     "output_type": "execute_result"
    }
   ],
   "source": [
    "a= 'welcome to the world of data science'\n",
    "a"
   ]
  },
  {
   "cell_type": "code",
   "execution_count": 6,
   "id": "1aba960b",
   "metadata": {},
   "outputs": [
    {
     "data": {
      "text/plain": [
       "'we are changing the workplace into database'"
      ]
     },
     "execution_count": 6,
     "metadata": {},
     "output_type": "execute_result"
    }
   ],
   "source": [
    "b= 'we are changing the workplace into database'\n",
    "b"
   ]
  },
  {
   "cell_type": "code",
   "execution_count": 7,
   "id": "e89a9c86",
   "metadata": {},
   "outputs": [
    {
     "data": {
      "text/plain": [
       "('welcome to the world of data science',\n",
       " 'we are changing the workplace into database')"
      ]
     },
     "execution_count": 7,
     "metadata": {},
     "output_type": "execute_result"
    }
   ],
   "source": [
    "a, b,"
   ]
  },
  {
   "cell_type": "code",
   "execution_count": 8,
   "id": "dd1dbd0e",
   "metadata": {},
   "outputs": [
    {
     "data": {
      "text/plain": [
       "('my nane is kennedy abanum',\n",
       " 'we are changing the workplace into database',\n",
       " 'welcome to the world of data science')"
      ]
     },
     "execution_count": 8,
     "metadata": {},
     "output_type": "execute_result"
    }
   ],
   "source": [
    "data, b, a,"
   ]
  },
  {
   "cell_type": "code",
   "execution_count": null,
   "id": "0ea4a477",
   "metadata": {},
   "outputs": [],
   "source": [
    "q= 'teach your childred to love Jehovah by using creation and pointing out the beautiful qualities of Jehovah'"
   ]
  },
  {
   "cell_type": "code",
   "execution_count": null,
   "id": "94fee7d6",
   "metadata": {},
   "outputs": [],
   "source": [
    "w= 'continue in the things your have learnt knowing from what source you learnt them'"
   ]
  },
  {
   "cell_type": "code",
   "execution_count": null,
   "id": "0c65a361",
   "metadata": {},
   "outputs": [],
   "source": [
    "t= 'make me know your way o Jehovah'"
   ]
  },
  {
   "cell_type": "code",
   "execution_count": 10,
   "id": "b0214344",
   "metadata": {},
   "outputs": [
    {
     "data": {
      "text/plain": [
       "('my nane is kennedy abanum',\n",
       " 'we are changing the workplace into database',\n",
       " 'welcome to the world of data science',\n",
       " 'please, give me wisdom in this field of data science, may i excel in this field of endeavor o my my God')"
      ]
     },
     "execution_count": 10,
     "metadata": {},
     "output_type": "execute_result"
    }
   ],
   "source": [
    "g= 'please, give me wisdom in this field of data science, may i excel in this field of endeavor o my my God'\n",
    "data, b, a, g"
   ]
  },
  {
   "cell_type": "code",
   "execution_count": null,
   "id": "4b892216",
   "metadata": {},
   "outputs": [],
   "source": []
  }
 ],
 "metadata": {
  "kernelspec": {
   "display_name": "Python 3 (ipykernel)",
   "language": "python",
   "name": "python3"
  },
  "language_info": {
   "codemirror_mode": {
    "name": "ipython",
    "version": 3
   },
   "file_extension": ".py",
   "mimetype": "text/x-python",
   "name": "python",
   "nbconvert_exporter": "python",
   "pygments_lexer": "ipython3",
   "version": "3.10.9"
  }
 },
 "nbformat": 4,
 "nbformat_minor": 5
}
